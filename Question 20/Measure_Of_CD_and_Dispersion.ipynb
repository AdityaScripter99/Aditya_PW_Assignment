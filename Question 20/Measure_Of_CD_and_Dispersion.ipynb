{
 "cells": [
  {
   "cell_type": "markdown",
   "metadata": {},
   "source": [
    "### What do you mean by Measure of Central Tendency and Measures of Dispersion? How can they be calculated?"
   ]
  },
  {
   "cell_type": "code",
   "execution_count": 1,
   "metadata": {},
   "outputs": [],
   "source": [
    "# Answer:\n",
    "\n",
    "# Measure of Central Tendency: These are statistical measures that describe the center of a data set. \n",
    "# The most common measures are:\n",
    "\n",
    "# Mean: The sum of all data points divided by the number of data points.\n",
    "# Median: The middle value when the data points are arranged in ascending order.\n",
    "# Mode: The most frequently occurring value in the data set.\n",
    "\n",
    "# Example Calculations:\n",
    "\n",
    "# Mean: Mean =(∑𝑥𝑖)/𝑛 , where 𝑥𝑖 are the data points and n is the number of data points.\n",
    "\n",
    "# Median: Sort the data and select the middle value (or average the two middle values if n is even).\n",
    "\n",
    "# Mode: Identify the value that appears most often.\n",
    "\n",
    "# Measures of Dispersion: These describe the spread or variability within a data set. Common measures include:\n",
    "\n",
    "# Range: The difference between the maximum and minimum values.\n",
    "# Variance: The average of the squared differences from the Mean.\n",
    "# Standard Deviation: The square root of the variance.\n",
    "# Interquartile Range (IQR): The range between the first quartile (Q1) and the third quartile (Q3).\n",
    "\n",
    "# Example Calculations:\n",
    "\n",
    "# Range: Range = Max − Min\n",
    "\n",
    "# Variance: Variance = (∑(𝑥𝑖 − Mean)**2)/n\n",
    " \n",
    "# Standard Deviation: Std Dev = Square root of Variance\n",
    "\n",
    "# IQR: IQR = 𝑄3 − 𝑄1"
   ]
  },
  {
   "cell_type": "code",
   "execution_count": 2,
   "metadata": {},
   "outputs": [
    {
     "name": "stdout",
     "output_type": "stream",
     "text": [
      "Mean: 14.666666666666666\n",
      "Median: 15\n",
      "Mode: 14\n",
      "Range: 8\n",
      "Variance: 4.75\n",
      "Standard Deviation: 2.179449471770337\n"
     ]
    }
   ],
   "source": [
    "import statistics\n",
    "\n",
    "def calculate_statistics(data):\n",
    "    if not data:\n",
    "        return \"No data provided.\"\n",
    "    \n",
    "    # Measures of Central Tendency\n",
    "    mean = statistics.mean(data)\n",
    "    median = statistics.median(data)\n",
    "    try:\n",
    "        mode = statistics.mode(data)\n",
    "    except statistics.StatisticsError:\n",
    "        mode = \"No unique mode\"\n",
    "    \n",
    "    # Measures of Dispersion\n",
    "    data_range = max(data) - min(data)\n",
    "    variance = statistics.variance(data)\n",
    "    std_dev = statistics.stdev(data)\n",
    "    \n",
    "    return {\n",
    "        \"Mean\": mean,\n",
    "        \"Median\": median,\n",
    "        \"Mode\": mode,\n",
    "        \"Range\": data_range,\n",
    "        \"Variance\": variance,\n",
    "        \"Standard Deviation\": std_dev\n",
    "    }\n",
    "\n",
    "# Example usage\n",
    "data = [10, 15, 14, 14, 18, 16, 15, 16, 14]\n",
    "stats = calculate_statistics(data)\n",
    "\n",
    "for key, value in stats.items():\n",
    "    print(f\"{key}: {value}\")\n"
   ]
  }
 ],
 "metadata": {
  "kernelspec": {
   "display_name": "Python 3",
   "language": "python",
   "name": "python3"
  },
  "language_info": {
   "codemirror_mode": {
    "name": "ipython",
    "version": 3
   },
   "file_extension": ".py",
   "mimetype": "text/x-python",
   "name": "python",
   "nbconvert_exporter": "python",
   "pygments_lexer": "ipython3",
   "version": "3.10.12"
  }
 },
 "nbformat": 4,
 "nbformat_minor": 2
}
