{
 "cells": [
  {
   "cell_type": "code",
   "execution_count": 1,
   "metadata": {},
   "outputs": [
    {
     "name": "stdout",
     "output_type": "stream",
     "text": [
      "Room 101 booked.\n",
      "Room 101 is now occupied.\n",
      "Room 101 is now available.\n",
      "ID: 127314981714144, Room Number: 101, Type: Suite, Rate: 150, Available: True\n"
     ]
    }
   ],
   "source": [
    "class Room:\n",
    "    def __init__(self, room_number, room_type, rate, available=True):\n",
    "        self.__id = id(self)  # Unique identification number\n",
    "        self.room_number = room_number\n",
    "        self.room_type = room_type\n",
    "        self.rate = rate\n",
    "        self.__available = available\n",
    "\n",
    "    def book_room(self):\n",
    "        if self.__available:\n",
    "            self.__available = False\n",
    "            print(f\"Room {self.room_number} booked.\")\n",
    "        else:\n",
    "            print(f\"Room {self.room_number} is already booked.\")\n",
    "\n",
    "    def check_in(self):\n",
    "        if not self.__available:\n",
    "            print(f\"Room {self.room_number} is now occupied.\")\n",
    "        else:\n",
    "            print(f\"Room {self.room_number} is not booked yet.\")\n",
    "\n",
    "    def check_out(self):\n",
    "        if not self.__available:\n",
    "            self.__available = True\n",
    "            print(f\"Room {self.room_number} is now available.\")\n",
    "        else:\n",
    "            print(f\"Room {self.room_number} is already available.\")\n",
    "\n",
    "    def get_details(self):\n",
    "        return f\"ID: {self.__id}, Room Number: {self.room_number}, Type: {self.room_type}, Rate: {self.rate}, Available: {self.__available}\"\n",
    "\n",
    "class SuiteRoom(Room):\n",
    "    def __init__(self, room_number, rate):\n",
    "        super().__init__(room_number, \"Suite\", rate)\n",
    "\n",
    "class StandardRoom(Room):\n",
    "    def __init__(self, room_number, rate):\n",
    "        super().__init__(room_number, \"Standard\", rate)\n",
    "\n",
    "# Example Usage\n",
    "suite_room = SuiteRoom(101, 150)\n",
    "standard_room = StandardRoom(102, 100)\n",
    "\n",
    "suite_room.book_room()\n",
    "suite_room.check_in()\n",
    "suite_room.check_out()\n",
    "\n",
    "print(suite_room.get_details())\n"
   ]
  },
  {
   "cell_type": "code",
   "execution_count": null,
   "metadata": {},
   "outputs": [],
   "source": []
  }
 ],
 "metadata": {
  "kernelspec": {
   "display_name": "Python 3",
   "language": "python",
   "name": "python3"
  },
  "language_info": {
   "codemirror_mode": {
    "name": "ipython",
    "version": 3
   },
   "file_extension": ".py",
   "mimetype": "text/x-python",
   "name": "python",
   "nbconvert_exporter": "python",
   "pygments_lexer": "ipython3",
   "version": "3.10.12"
  }
 },
 "nbformat": 4,
 "nbformat_minor": 2
}
