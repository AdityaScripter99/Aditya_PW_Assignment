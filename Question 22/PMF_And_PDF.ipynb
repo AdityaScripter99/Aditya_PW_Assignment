{
 "cells": [
  {
   "cell_type": "markdown",
   "metadata": {},
   "source": [
    "### Explain PROBABILITY MASS FUNCTION (PMF) and PROBABILITY DENSITY FUNCTION (PDF). What is the difference between them?"
   ]
  },
  {
   "cell_type": "code",
   "execution_count": 1,
   "metadata": {},
   "outputs": [],
   "source": [
    "# Answer:\n",
    "\n",
    "# Probability Mass Function (PMF):\n",
    "\n",
    "# Definition: PMF is a function that gives the probability that a discrete random variable is exactly equal to some value.\n",
    "# Use: It is used with discrete random variables (e.g., number of heads when flipping coins).\n",
    "# Example: If X is the outcome of a dice roll, 𝑃(𝑋 = 3) would give the probability of rolling a 3.\n",
    "\n",
    "# Probability Density Function (PDF):\n",
    "\n",
    "# Definition: PDF is a function that describes the likelihood of a continuous random variable to take on a particular value.\n",
    "# Use: It is used with continuous random variables (e.g., height, weight).\n",
    "# Example: The height of a person can be described by a normal distribution with a certain mean and standard deviation.\n",
    "\n",
    "# Difference:\n",
    "\n",
    "# PMF is used for discrete variables, while PDF is used for continuous variables.\n",
    "# PMF gives the probability of exact outcomes, while PDF gives the probability density at a particular point (actual probabilities are found by integrating the PDF over an interval)."
   ]
  },
  {
   "cell_type": "code",
   "execution_count": 2,
   "metadata": {},
   "outputs": [
    {
     "name": "stderr",
     "output_type": "stream",
     "text": [
      "/home/awesome_dreamer_adit/.local/lib/python3.10/site-packages/scipy/__init__.py:132: UserWarning: A NumPy version >=1.21.6 and <1.28.0 is required for this version of SciPy (detected version 1.21.3)\n",
      "  warnings.warn(f\"A NumPy version >={np_minversion} and <{np_maxversion}\"\n"
     ]
    },
    {
     "name": "stdout",
     "output_type": "stream",
     "text": [
      "PMF for getting 5 successes in 10 trials: 0.24609375000000003\n"
     ]
    }
   ],
   "source": [
    "# Calculating Probability Mass Function (PMF):\n",
    "\n",
    "from scipy.stats import binom\n",
    "\n",
    "def calculate_pmf(n, p, x):\n",
    "    pmf = binom.pmf(x, n, p)\n",
    "    return pmf\n",
    "\n",
    "# Example usage\n",
    "n = 10  # Number of trials\n",
    "p = 0.5  # Probability of success\n",
    "x = 5  # Number of successes\n",
    "\n",
    "pmf = calculate_pmf(n, p, x)\n",
    "print(f\"PMF for getting {x} successes in {n} trials: {pmf}\")\n"
   ]
  },
  {
   "cell_type": "code",
   "execution_count": 3,
   "metadata": {},
   "outputs": [
    {
     "name": "stdout",
     "output_type": "stream",
     "text": [
      "PDF at x = 0 for N(0, 1): 0.3989422804014327\n"
     ]
    }
   ],
   "source": [
    "# Calculating Probability Density Function (PDF):\n",
    "\n",
    "from scipy.stats import norm\n",
    "\n",
    "def calculate_pdf(mu, sigma, x):\n",
    "    pdf = norm.pdf(x, mu, sigma)\n",
    "    return pdf\n",
    "\n",
    "# Example usage\n",
    "mu = 0  # Mean\n",
    "sigma = 1  # Standard deviation\n",
    "x = 0  # Value at which to evaluate the PDF\n",
    "\n",
    "pdf = calculate_pdf(mu, sigma, x)\n",
    "print(f\"PDF at x = {x} for N({mu}, {sigma**2}): {pdf}\")\n"
   ]
  },
  {
   "cell_type": "code",
   "execution_count": null,
   "metadata": {},
   "outputs": [],
   "source": []
  }
 ],
 "metadata": {
  "kernelspec": {
   "display_name": "Python 3",
   "language": "python",
   "name": "python3"
  },
  "language_info": {
   "codemirror_mode": {
    "name": "ipython",
    "version": 3
   },
   "file_extension": ".py",
   "mimetype": "text/x-python",
   "name": "python",
   "nbconvert_exporter": "python",
   "pygments_lexer": "ipython3",
   "version": "3.10.12"
  }
 },
 "nbformat": 4,
 "nbformat_minor": 2
}
