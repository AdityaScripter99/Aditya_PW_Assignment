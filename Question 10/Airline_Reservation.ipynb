{
 "cells": [
  {
   "cell_type": "code",
   "execution_count": 3,
   "metadata": {},
   "outputs": [
    {
     "name": "stdout",
     "output_type": "stream",
     "text": [
      "Seat booked on flight AA101. Seats remaining: 149\n",
      "Reservation canceled on flight AA101. Seats remaining: 150\n",
      "150\n",
      "ID: 129617667880656, Flight Number: AA101, Departure: JFK at 08:00 AM, Arrival: LAX at 11:00 AM, Available Seats: 150\n"
     ]
    }
   ],
   "source": [
    "class Flight:\n",
    "    def __init__(self, flight_number, departure_airport, arrival_airport, departure_time, arrival_time, total_seats):\n",
    "        self.__id = id(self)  # Unique identification number\n",
    "        self.flight_number = flight_number\n",
    "        self.departure_airport = departure_airport\n",
    "        self.arrival_airport = arrival_airport\n",
    "        self.departure_time = departure_time\n",
    "        self.arrival_time = arrival_time\n",
    "        self.__available_seats = total_seats\n",
    "\n",
    "    def book_seat(self):\n",
    "        if self.__available_seats > 0:\n",
    "            self.__available_seats -= 1\n",
    "            print(f\"Seat booked on flight {self.flight_number}. Seats remaining: {self.__available_seats}\")\n",
    "        else:\n",
    "            print(\"No seats available.\")\n",
    "\n",
    "    def cancel_reservation(self):\n",
    "        self.__available_seats += 1\n",
    "        print(f\"Reservation canceled on flight {self.flight_number}. Seats remaining: {self.__available_seats}\")\n",
    "\n",
    "    def get_available_seats(self):\n",
    "        return self.__available_seats\n",
    "\n",
    "    def get_details(self):\n",
    "        return f\"ID: {self.__id}, Flight Number: {self.flight_number}, Departure: {self.departure_airport} at {self.departure_time}, Arrival: {self.arrival_airport} at {self.arrival_time}, Available Seats: {self.__available_seats}\"\n",
    "\n",
    "class DomesticFlight(Flight):\n",
    "    def __init__(self, flight_number, departure_airport, arrival_airport, departure_time, arrival_time, total_seats):\n",
    "        super().__init__(flight_number, departure_airport, arrival_airport, departure_time, arrival_time, total_seats)\n",
    "\n",
    "class InternationalFlight(Flight):\n",
    "    def __init__(self, flight_number, departure_airport, arrival_airport, departure_time, arrival_time, total_seats):\n",
    "        super().__init__(flight_number, departure_airport, arrival_airport, departure_time, arrival_time, total_seats)\n",
    "\n",
    "# Example Usage\n",
    "domestic_flight = DomesticFlight(\"AA101\", \"JFK\", \"LAX\", \"08:00 AM\", \"11:00 AM\", 150)\n",
    "international_flight = InternationalFlight(\"BA202\", \"LHR\", \"JFK\", \"10:00 AM\", \"01:00 PM\", 200)\n",
    "\n",
    "domestic_flight.book_seat()\n",
    "domestic_flight.cancel_reservation()\n",
    "\n",
    "print(domestic_flight.get_available_seats())\n",
    "print(domestic_flight.get_details())\n"
   ]
  },
  {
   "cell_type": "code",
   "execution_count": null,
   "metadata": {},
   "outputs": [],
   "source": []
  }
 ],
 "metadata": {
  "kernelspec": {
   "display_name": "Python 3",
   "language": "python",
   "name": "python3"
  },
  "language_info": {
   "codemirror_mode": {
    "name": "ipython",
    "version": 3
   },
   "file_extension": ".py",
   "mimetype": "text/x-python",
   "name": "python",
   "nbconvert_exporter": "python",
   "pygments_lexer": "ipython3",
   "version": "3.10.12"
  }
 },
 "nbformat": 4,
 "nbformat_minor": 2
}
