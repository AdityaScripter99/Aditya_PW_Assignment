{
 "cells": [
  {
   "cell_type": "markdown",
   "metadata": {},
   "source": [
    "#### Find the most likely price at Delhi corresponding to the price of Rs. 70 at Agra from the following data: Coefficient of correlation between the prices of the two places +0.8.\n"
   ]
  },
  {
   "cell_type": "code",
   "execution_count": 3,
   "metadata": {},
   "outputs": [],
   "source": [
    "# Given:\n",
    "\n",
    "# Coefficient of correlation (r) = +0.8\n",
    "# Price at Agra (X) = Rs. 70\n",
    "\n",
    "# We need more details, such as the mean and standard deviation of prices at Delhi and Agra, \n",
    "# to calculate the exact price. Assuming we have the mean (𝜇𝑥 ​for Agra and 𝜇𝑦for Delhi) and \n",
    "# standard deviation (𝜎𝑥 for Agra and 𝜎𝑦 for Delhi), the most likely price at Delhi can be \n",
    "# calculated using the linear regression formula:\n",
    "\n",
    "# 𝑌 = 𝜇𝑦 + 𝑟 × (𝜎𝑦/𝜎𝑥)×(𝑋 − 𝜇𝑥)"
   ]
  },
  {
   "cell_type": "code",
   "execution_count": 4,
   "metadata": {},
   "outputs": [
    {
     "name": "stdout",
     "output_type": "stream",
     "text": [
      "The most likely price in Delhi corresponding to the price of Rs. 70 at Agra is Rs. 80.60\n"
     ]
    }
   ],
   "source": [
    "def predict_price_in_delhi(x, mean_x, mean_y, std_x, std_y, r):\n",
    "    # Calculate the slope (b) of the regression line\n",
    "    b = r * (std_y / std_x)\n",
    "    \n",
    "    # Calculate the intercept (a) of the regression line\n",
    "    a = mean_y - b * mean_x\n",
    "    \n",
    "    # Predict the price in Delhi corresponding to the price in Agra (X = 70)\n",
    "    y = a + b * x\n",
    "    \n",
    "    return y\n",
    "\n",
    "# Given data (assumed for illustration)\n",
    "mean_price_agra = 65  # Mean price at Agra\n",
    "mean_price_delhi = 75  # Mean price at Delhi\n",
    "std_dev_agra = 5  # Standard deviation of prices at Agra\n",
    "std_dev_delhi = 7  # Standard deviation of prices at Delhi\n",
    "correlation_coefficient = 0.8  # Given correlation coefficient\n",
    "price_at_agra = 70  # Given price at Agra\n",
    "\n",
    "# Calculate the most likely price at Delhi\n",
    "predicted_price_delhi = predict_price_in_delhi(price_at_agra, mean_price_agra, mean_price_delhi, std_dev_agra, std_dev_delhi, correlation_coefficient)\n",
    "\n",
    "print(f\"The most likely price in Delhi corresponding to the price of Rs. 70 at Agra is Rs. {predicted_price_delhi:.2f}\")\n"
   ]
  },
  {
   "cell_type": "code",
   "execution_count": null,
   "metadata": {},
   "outputs": [],
   "source": []
  }
 ],
 "metadata": {
  "kernelspec": {
   "display_name": "Python 3",
   "language": "python",
   "name": "python3"
  },
  "language_info": {
   "codemirror_mode": {
    "name": "ipython",
    "version": 3
   },
   "file_extension": ".py",
   "mimetype": "text/x-python",
   "name": "python",
   "nbconvert_exporter": "python",
   "pygments_lexer": "ipython3",
   "version": "3.10.12"
  }
 },
 "nbformat": 4,
 "nbformat_minor": 2
}
