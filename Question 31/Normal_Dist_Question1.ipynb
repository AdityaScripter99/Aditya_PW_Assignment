{
 "cells": [
  {
   "cell_type": "markdown",
   "metadata": {},
   "source": [
    "### The mean of a distribution is 60 with a standard deviation of 10. Assuming that the distribution is normal, what percentage of items be:\n",
    "\n",
    "##### (i) between 60 and 72,\n",
    "##### (ii) between 50 and 60,\n",
    "##### (iii) beyond 72, and\n",
    "##### (iv) between 70 and 80?\n"
   ]
  },
  {
   "cell_type": "code",
   "execution_count": 1,
   "metadata": {},
   "outputs": [],
   "source": [
    "\n",
    "# Answer: Using the properties of the normal distribution and the Z-score formula:\n",
    "\n",
    "# Z-score Formula:\n",
    "#         𝑍=(𝑋−𝜇)/𝜎\n",
    "# where X is the value,μ is the mean, and σ is the standard deviation.\n",
    "\n",
    "# (i) Between 60 and 72:\n",
    "\n",
    "# 𝑍1 =(60−60)/10=0\n",
    "# Z2​ =(72−60)/10=1.2\n",
    "\n",
    "# Using Z-tables or a calculator, the area between these Z-scores gives approximately 38.21%.\n",
    "\n",
    "# (ii) Between 50 and 60:\n",
    "\n",
    "# 𝑍1 =(50−60)/10=−1\n",
    "# Z2​ =(60−60)/10​ =0\n",
    "\n",
    "# The area between these Z-scores is approximately 34.13%.\n",
    "\n",
    "# (iii) Beyond 72:\n",
    "# 𝑍 =(72−60)/10=1.2\n",
    "\n",
    "# The area beyond Z=1.2 is approximately 11.51%.\n",
    "\n",
    "# (iv) Between 70 and 80:\n",
    "\n",
    "# 𝑍1 =(70−60)/10=1\n",
    "# Z2​ =(80−60)/10=2\n",
    "\n",
    "# The area between these Z-scores is approximately 13.59%.\n",
    "\n"
   ]
  },
  {
   "cell_type": "code",
   "execution_count": 1,
   "metadata": {},
   "outputs": [
    {
     "name": "stderr",
     "output_type": "stream",
     "text": [
      "/home/awesome_dreamer_adit/.local/lib/python3.10/site-packages/scipy/__init__.py:132: UserWarning: A NumPy version >=1.21.6 and <1.28.0 is required for this version of SciPy (detected version 1.21.3)\n",
      "  warnings.warn(f\"A NumPy version >={np_minversion} and <{np_maxversion}\"\n"
     ]
    },
    {
     "name": "stdout",
     "output_type": "stream",
     "text": [
      "(i) Percentage of items between 60 and 72: 38.49%\n",
      "(ii) Percentage of items between 50 and 60: 34.13%\n",
      "(iii) Percentage of items beyond 72: 11.51%\n",
      "(iv) Percentage of items between 70 and 80: 13.59%\n"
     ]
    }
   ],
   "source": [
    "#Program:\n",
    "\n",
    "import scipy.stats as stats\n",
    "\n",
    "def calculate_percentages(mean, std_dev, x1, x2=None):\n",
    "    # Calculate Z-scores\n",
    "    z1 = (x1 - mean) / std_dev\n",
    "    p1 = stats.norm.cdf(z1)\n",
    "    \n",
    "    if x2 is not None:\n",
    "        z2 = (x2 - mean) / std_dev\n",
    "        p2 = stats.norm.cdf(z2)\n",
    "        # Return the percentage between x1 and x2\n",
    "        return round((p2 - p1) * 100, 2)\n",
    "    else:\n",
    "        # Return the percentage beyond x1\n",
    "        return round((1 - p1) * 100, 2)\n",
    "\n",
    "# Given data\n",
    "mean = 60\n",
    "std_dev = 10\n",
    "\n",
    "# Calculate the required percentages\n",
    "percent_between_60_72 = calculate_percentages(mean, std_dev, 60, 72)\n",
    "percent_between_50_60 = calculate_percentages(mean, std_dev, 50, 60)\n",
    "percent_beyond_72 = calculate_percentages(mean, std_dev, 72)\n",
    "percent_between_70_80 = calculate_percentages(mean, std_dev, 70, 80)\n",
    "\n",
    "print(f\"(i) Percentage of items between 60 and 72: {percent_between_60_72}%\")\n",
    "print(f\"(ii) Percentage of items between 50 and 60: {percent_between_50_60}%\")\n",
    "print(f\"(iii) Percentage of items beyond 72: {percent_beyond_72}%\")\n",
    "print(f\"(iv) Percentage of items between 70 and 80: {percent_between_70_80}%\")\n"
   ]
  },
  {
   "cell_type": "code",
   "execution_count": null,
   "metadata": {},
   "outputs": [],
   "source": []
  }
 ],
 "metadata": {
  "kernelspec": {
   "display_name": "Python 3",
   "language": "python",
   "name": "python3"
  },
  "language_info": {
   "codemirror_mode": {
    "name": "ipython",
    "version": 3
   },
   "file_extension": ".py",
   "mimetype": "text/x-python",
   "name": "python",
   "nbconvert_exporter": "python",
   "pygments_lexer": "ipython3",
   "version": "3.10.12"
  }
 },
 "nbformat": 4,
 "nbformat_minor": 2
}
