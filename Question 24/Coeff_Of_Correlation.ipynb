{
 "cells": [
  {
   "cell_type": "markdown",
   "metadata": {},
   "source": [
    "## Calculation Of Coefficient Of Correlation"
   ]
  },
  {
   "cell_type": "code",
   "execution_count": 1,
   "metadata": {},
   "outputs": [
    {
     "name": "stdout",
     "output_type": "stream",
     "text": [
      "Pearson Correlation Coefficient: 0.4811958732076392\n"
     ]
    }
   ],
   "source": [
    "import math\n",
    "\n",
    "# Marks of 10 students in Accountancy and Statistics\n",
    "marks_accountancy = [45, 70, 40, 60, 75, 90, 85, 72, 58, 50]\n",
    "marks_statistics = [35, 95, 90, 40, 80, 85, 80, 78, 65, 50]\n",
    "\n",
    "# Pearson correlation function\n",
    "def pearson_correlation(x, y):\n",
    "    n = len(x)\n",
    "    sum_x = sum(x)\n",
    "    sum_y = sum(y)\n",
    "    sum_x_sq = sum([i**2 for i in x])\n",
    "    sum_y_sq = sum([i**2 for i in y])\n",
    "    sum_xy = sum([i * j for i, j in zip(x, y)])\n",
    "    \n",
    "    numerator = n * sum_xy - sum_x * sum_y\n",
    "    denominator = math.sqrt((n * sum_x_sq - sum_x**2) * (n * sum_y_sq - sum_y**2))\n",
    "    \n",
    "    if denominator == 0:\n",
    "        return 0\n",
    "    \n",
    "    return numerator / denominator\n",
    "\n",
    "correlation_coefficient = pearson_correlation(marks_accountancy, marks_statistics)\n",
    "print(f\"Pearson Correlation Coefficient: {correlation_coefficient}\")\n"
   ]
  },
  {
   "cell_type": "code",
   "execution_count": null,
   "metadata": {},
   "outputs": [],
   "source": []
  }
 ],
 "metadata": {
  "kernelspec": {
   "display_name": "Python 3",
   "language": "python",
   "name": "python3"
  },
  "language_info": {
   "codemirror_mode": {
    "name": "ipython",
    "version": 3
   },
   "file_extension": ".py",
   "mimetype": "text/x-python",
   "name": "python",
   "nbconvert_exporter": "python",
   "pygments_lexer": "ipython3",
   "version": "3.10.12"
  }
 },
 "nbformat": 4,
 "nbformat_minor": 2
}
