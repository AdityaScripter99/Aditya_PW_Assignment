{
 "cells": [
  {
   "cell_type": "markdown",
   "metadata": {},
   "source": [
    "### Write all the characteristics or Properties of the Normal Distribution Curve."
   ]
  },
  {
   "cell_type": "code",
   "execution_count": null,
   "metadata": {},
   "outputs": [],
   "source": [
    "# Answer:\n",
    "\n",
    "# 1. Bell-shaped Curve: The normal distribution has a bell-shaped and symmetric curve centered around the mean.\n",
    "\n",
    "# 2. Mean, Median, and Mode are Equal: In a perfectly normal distribution,\n",
    "#    these three measures of central tendency coincide at the peak of the curve.\n",
    "\n",
    "# 3. Symmetry: The curve is symmetric about the mean.\n",
    "\n",
    "# 4. Unimodal: It has a single peak, meaning it has only one mode.\n",
    "\n",
    "# 5. Asymptotic: The tails of the curve extend indefinitely in both directions, \n",
    "#    approaching but never touching the x-axis.\n",
    "\n",
    "# 6. 68-95-99.7 Rule (Empirical Rule): About 68% of the data lies within one standard deviation of the mean, \n",
    "#    95% within two standard deviations, and 99.7% within three standard deviations.\n",
    "\n",
    "# 7. Total Area Under the Curve is 1: The area under the curve sums to 1, \n",
    "#    representing the total probability of all possible outcomes."
   ]
  }
 ],
 "metadata": {
  "language_info": {
   "name": "python"
  }
 },
 "nbformat": 4,
 "nbformat_minor": 2
}
