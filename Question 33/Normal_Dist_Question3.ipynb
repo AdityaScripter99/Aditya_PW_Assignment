{
 "cells": [
  {
   "cell_type": "markdown",
   "metadata": {},
   "source": [
    "### If the height of 500 students are normally distributed with mean 65 inches and standard deviation 5 inches. How many students have height:\n",
    "##### (a) greater than 70 inches, and\n",
    "##### (b) between 60 and 70 inches?\n",
    "\n"
   ]
  },
  {
   "cell_type": "code",
   "execution_count": 1,
   "metadata": {},
   "outputs": [],
   "source": [
    "# Answer:\n",
    "\n",
    "# Mean (μ): 65 inches\n",
    "# Standard Deviation (σ): 5 inches\n",
    "\n",
    "# For height greater than 70 inches:\n",
    "# 𝑍 =(70−65)/5=1\n",
    "\n",
    "# The area to the right of 𝑍=1 is approximately 15.87%.\n",
    "# Number of students = 500×0.1587=79.35≈79 students.\n",
    "\n",
    "# For height between 60 and 70 inches:\n",
    "# 𝑍1 =(60−65)/5=−1\n",
    "# Z2 =(70-65)/5=1\n",
    "\n",
    "# The area between these Z-scores is approximately 68.27%.\n",
    "# Number of students = 500×0.6827=341.35≈341 students.\n"
   ]
  },
  {
   "cell_type": "code",
   "execution_count": 1,
   "metadata": {},
   "outputs": [
    {
     "name": "stderr",
     "output_type": "stream",
     "text": [
      "/home/awesome_dreamer_adit/.local/lib/python3.10/site-packages/scipy/__init__.py:132: UserWarning: A NumPy version >=1.21.6 and <1.28.0 is required for this version of SciPy (detected version 1.21.3)\n",
      "  warnings.warn(f\"A NumPy version >={np_minversion} and <{np_maxversion}\"\n"
     ]
    },
    {
     "name": "stdout",
     "output_type": "stream",
     "text": [
      "(a) Number of students with height greater than 70 inches: 79\n",
      "(b) Number of students with height between 60 and 70 inches: 341\n"
     ]
    }
   ],
   "source": [
    "# Program:\n",
    "\n",
    "import scipy.stats as stats\n",
    "\n",
    "def calculate_number_of_students(mean, std_dev, total_students, min_height=None, max_height=None):\n",
    "    if min_height is not None and max_height is not None:\n",
    "        # Calculate Z-scores for the given heights\n",
    "        z_min = (min_height - mean) / std_dev\n",
    "        z_max = (max_height - mean) / std_dev\n",
    "        # Calculate the cumulative probabilities\n",
    "        p_min = stats.norm.cdf(z_min)\n",
    "        p_max = stats.norm.cdf(z_max)\n",
    "        # Proportion of students within the range\n",
    "        proportion = p_max - p_min\n",
    "    elif min_height is not None:\n",
    "        # Calculate Z-score for the minimum height\n",
    "        z_min = (min_height - mean) / std_dev\n",
    "        # Calculate the cumulative probability\n",
    "        p_min = stats.norm.cdf(z_min)\n",
    "        # Proportion of students greater than the min_height\n",
    "        proportion = 1 - p_min\n",
    "    else:\n",
    "        raise ValueError(\"At least one height value must be provided\")\n",
    "\n",
    "    # Calculate the number of students\n",
    "    number_of_students = round(proportion * total_students)\n",
    "    return number_of_students\n",
    "\n",
    "# Given data\n",
    "mean_height = 65\n",
    "std_dev_height = 5\n",
    "total_students = 500\n",
    "\n",
    "# Calculate the number of students\n",
    "students_greater_than_70 = calculate_number_of_students(mean_height, std_dev_height, total_students, min_height=70)\n",
    "students_between_60_and_70 = calculate_number_of_students(mean_height, std_dev_height, total_students, min_height=60, max_height=70)\n",
    "\n",
    "print(f\"(a) Number of students with height greater than 70 inches: {students_greater_than_70}\")\n",
    "print(f\"(b) Number of students with height between 60 and 70 inches: {students_between_60_and_70}\")\n"
   ]
  },
  {
   "cell_type": "code",
   "execution_count": null,
   "metadata": {},
   "outputs": [],
   "source": []
  }
 ],
 "metadata": {
  "kernelspec": {
   "display_name": "Python 3",
   "language": "python",
   "name": "python3"
  },
  "language_info": {
   "codemirror_mode": {
    "name": "ipython",
    "version": 3
   },
   "file_extension": ".py",
   "mimetype": "text/x-python",
   "name": "python",
   "nbconvert_exporter": "python",
   "pygments_lexer": "ipython3",
   "version": "3.10.12"
  }
 },
 "nbformat": 4,
 "nbformat_minor": 2
}
