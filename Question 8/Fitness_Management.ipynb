{
 "cells": [
  {
   "cell_type": "code",
   "execution_count": 1,
   "metadata": {},
   "outputs": [
    {
     "name": "stdout",
     "output_type": "stream",
     "text": [
      "Member John Doe registered with Family membership.\n",
      "Member Jane Doe registered with Individual membership.\n",
      "Membership for John Doe has been canceled.\n",
      "ID: 131220152076224, Name: John Doe, Age: 40, Membership: Family, Active: False\n"
     ]
    }
   ],
   "source": [
    "class Member:\n",
    "    def __init__(self, name, age, membership_type, active=True):\n",
    "        self.__id = id(self)  # Unique identification number\n",
    "        self.name = name\n",
    "        self.age = age\n",
    "        self.membership_type = membership_type\n",
    "        self.__active = active\n",
    "\n",
    "    def register(self):\n",
    "        self.__active = True\n",
    "        print(f\"Member {self.name} registered with {self.membership_type} membership.\")\n",
    "\n",
    "    def renew_membership(self):\n",
    "        self.__active = True\n",
    "        print(f\"Membership for {self.name} has been renewed.\")\n",
    "\n",
    "    def cancel_membership(self):\n",
    "        self.__active = False\n",
    "        print(f\"Membership for {self.name} has been canceled.\")\n",
    "\n",
    "    def get_details(self):\n",
    "        return f\"ID: {self.__id}, Name: {self.name}, Age: {self.age}, Membership: {self.membership_type}, Active: {self.__active}\"\n",
    "\n",
    "class FamilyMember(Member):\n",
    "    def __init__(self, name, age):\n",
    "        super().__init__(name, age, \"Family\")\n",
    "\n",
    "class IndividualMember(Member):\n",
    "    def __init__(self, name, age):\n",
    "        super().__init__(name, age, \"Individual\")\n",
    "\n",
    "# Example Usage\n",
    "family_member = FamilyMember(\"John Doe\", 40)\n",
    "individual_member = IndividualMember(\"Jane Doe\", 30)\n",
    "\n",
    "family_member.register()\n",
    "individual_member.register()\n",
    "\n",
    "family_member.cancel_membership()\n",
    "print(family_member.get_details())\n"
   ]
  },
  {
   "cell_type": "code",
   "execution_count": null,
   "metadata": {},
   "outputs": [],
   "source": []
  }
 ],
 "metadata": {
  "kernelspec": {
   "display_name": "Python 3",
   "language": "python",
   "name": "python3"
  },
  "language_info": {
   "codemirror_mode": {
    "name": "ipython",
    "version": 3
   },
   "file_extension": ".py",
   "mimetype": "text/x-python",
   "name": "python",
   "nbconvert_exporter": "python",
   "pygments_lexer": "ipython3",
   "version": "3.10.12"
  }
 },
 "nbformat": 4,
 "nbformat_minor": 2
}
