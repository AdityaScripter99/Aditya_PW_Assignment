{
 "cells": [
  {
   "cell_type": "code",
   "execution_count": 1,
   "metadata": {},
   "outputs": [
    {
     "name": "stdout",
     "output_type": "stream",
     "text": [
      "Attendee Alice added to event Board Meeting.\n",
      "Attendee Bob added to event Board Meeting.\n",
      "Attendee Alice removed from event Board Meeting.\n",
      "1\n",
      "ID: 136697443134736, Name: Board Meeting, Date: 2024-09-15, Time: 10:00 AM, Location: Room 101, Attendees: ['Bob']\n"
     ]
    }
   ],
   "source": [
    "class Event:\n",
    "    def __init__(self, name, date, time, location):\n",
    "        self.__id = id(self)  # Unique identification number\n",
    "        self.name = name\n",
    "        self.date = date\n",
    "        self.time = time\n",
    "        self.location = location\n",
    "        self.__attendees = []\n",
    "\n",
    "    def add_attendee(self, attendee):\n",
    "        self.__attendees.append(attendee)\n",
    "        print(f\"Attendee {attendee} added to event {self.name}.\")\n",
    "\n",
    "    def remove_attendee(self, attendee):\n",
    "        if attendee in self.__attendees:\n",
    "            self.__attendees.remove(attendee)\n",
    "            print(f\"Attendee {attendee} removed from event {self.name}.\")\n",
    "        else:\n",
    "            print(f\"Attendee {attendee} not found in event {self.name}.\")\n",
    "\n",
    "    def get_total_attendees(self):\n",
    "        return len(self.__attendees)\n",
    "\n",
    "    def get_details(self):\n",
    "        return f\"ID: {self.__id}, Name: {self.name}, Date: {self.date}, Time: {self.time}, Location: {self.location}, Attendees: {self.__attendees}\"\n",
    "\n",
    "class PrivateEvent(Event):\n",
    "    def __init__(self, name, date, time, location):\n",
    "        super().__init__(name, date, time, location)\n",
    "\n",
    "class PublicEvent(Event):\n",
    "    def __init__(self, name, date, time, location):\n",
    "        super().__init__(name, date, time, location)\n",
    "\n",
    "# Example Usage\n",
    "private_event = PrivateEvent(\"Board Meeting\", \"2024-09-15\", \"10:00 AM\", \"Room 101\")\n",
    "public_event = PublicEvent(\"Community Fair\", \"2024-09-20\", \"12:00 PM\", \"Main Hall\")\n",
    "\n",
    "private_event.add_attendee(\"Alice\")\n",
    "private_event.add_attendee(\"Bob\")\n",
    "private_event.remove_attendee(\"Alice\")\n",
    "\n",
    "print(private_event.get_total_attendees())\n",
    "print(private_event.get_details())\n"
   ]
  },
  {
   "cell_type": "code",
   "execution_count": null,
   "metadata": {},
   "outputs": [],
   "source": []
  }
 ],
 "metadata": {
  "kernelspec": {
   "display_name": "Python 3",
   "language": "python",
   "name": "python3"
  },
  "language_info": {
   "codemirror_mode": {
    "name": "ipython",
    "version": 3
   },
   "file_extension": ".py",
   "mimetype": "text/x-python",
   "name": "python",
   "nbconvert_exporter": "python",
   "pygments_lexer": "ipython3",
   "version": "3.10.12"
  }
 },
 "nbformat": 4,
 "nbformat_minor": 2
}
