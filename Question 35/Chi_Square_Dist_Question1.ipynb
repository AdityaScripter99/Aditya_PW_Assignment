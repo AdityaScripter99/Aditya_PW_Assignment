{
 "cells": [
  {
   "cell_type": "markdown",
   "metadata": {},
   "source": [
    "#### A random sample of size 25 from a population gives the sample standard deviation to be 9.0. Test the hypothesis that the population standard deviation is 10.5. \n",
    "##### Hint: Use chi-square distribution."
   ]
  },
  {
   "cell_type": "code",
   "execution_count": 1,
   "metadata": {},
   "outputs": [],
   "source": [
    "# Answer:\n",
    "\n",
    "# Given:\n",
    "\n",
    "# Sample size (n) = 25\n",
    "# Sample standard deviation (s) = 9.0\n",
    "# Hypothesized population standard deviation (σ0) = 10.5\n",
    "\n",
    "# We use the chi-square test for the population standard deviation:\n",
    "#      𝜒**2 = ((𝑛−1)𝑠**2)/𝜎0**2 = ((25−1)×(9.0**2))/(10.5**2)\n",
    "\n",
    "\n",
    "# Calculate the value of 𝜒**2 and compare it with the critical value from the chi-square distribution table \n",
    "# with n−1 degrees of freedom to accept or reject the hypothesis.\n",
    "\n",
    "\n"
   ]
  },
  {
   "cell_type": "code",
   "execution_count": 1,
   "metadata": {},
   "outputs": [
    {
     "name": "stderr",
     "output_type": "stream",
     "text": [
      "/home/awesome_dreamer_adit/.local/lib/python3.10/site-packages/scipy/__init__.py:132: UserWarning: A NumPy version >=1.21.6 and <1.28.0 is required for this version of SciPy (detected version 1.21.3)\n",
      "  warnings.warn(f\"A NumPy version >={np_minversion} and <{np_maxversion}\"\n"
     ]
    },
    {
     "name": "stdout",
     "output_type": "stream",
     "text": [
      "Chi-square statistic: 17.63\n",
      "P-value: 1.6409\n",
      "Fail to reject the null hypothesis: There is not enough evidence to say that the population standard deviation is different from 10.5.\n"
     ]
    }
   ],
   "source": [
    "import scipy.stats as stats\n",
    "\n",
    "def chi_square_test(sample_std_dev, hypothesized_std_dev, sample_size):\n",
    "    # Calculate the chi-square test statistic\n",
    "    chi_square_stat = ((sample_size - 1) * (sample_std_dev ** 2)) / (hypothesized_std_dev ** 2)\n",
    "    \n",
    "    # Degrees of freedom\n",
    "    df = sample_size - 1\n",
    "    \n",
    "    # Calculate the p-value\n",
    "    p_value = 2 * (1 - stats.chi2.cdf(chi_square_stat, df))\n",
    "    \n",
    "    return chi_square_stat, p_value\n",
    "\n",
    "# Given data\n",
    "sample_std_dev = 9.0\n",
    "hypothesized_std_dev = 10.5\n",
    "sample_size = 25\n",
    "\n",
    "# Perform the chi-square test\n",
    "chi_square_stat, p_value = chi_square_test(sample_std_dev, hypothesized_std_dev, sample_size)\n",
    "\n",
    "# Significance level (usually 0.05)\n",
    "alpha = 0.05\n",
    "\n",
    "print(f\"Chi-square statistic: {chi_square_stat:.2f}\")\n",
    "print(f\"P-value: {p_value:.4f}\")\n",
    "\n",
    "# Conclusion\n",
    "if p_value < alpha:\n",
    "    print(\"Reject the null hypothesis: The population standard deviation is not 10.5.\")\n",
    "else:\n",
    "    print(\"Fail to reject the null hypothesis: There is not enough evidence to say that the population standard deviation is different from 10.5.\")\n"
   ]
  }
 ],
 "metadata": {
  "kernelspec": {
   "display_name": "Python 3",
   "language": "python",
   "name": "python3"
  },
  "language_info": {
   "codemirror_mode": {
    "name": "ipython",
    "version": 3
   },
   "file_extension": ".py",
   "mimetype": "text/x-python",
   "name": "python",
   "nbconvert_exporter": "python",
   "pygments_lexer": "ipython3",
   "version": "3.10.12"
  }
 },
 "nbformat": 4,
 "nbformat_minor": 2
}
