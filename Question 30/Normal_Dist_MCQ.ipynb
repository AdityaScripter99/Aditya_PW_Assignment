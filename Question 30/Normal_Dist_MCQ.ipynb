{
 "cells": [
  {
   "cell_type": "markdown",
   "metadata": {},
   "source": [
    "### Which of the following options are correct about Normal Distribution Curve."
   ]
  },
  {
   "cell_type": "code",
   "execution_count": 1,
   "metadata": {},
   "outputs": [],
   "source": [
    "\n",
    "# Option (b) is correct: Mean ±1 S.D. (i.e.,𝜇 ± 𝜎) \n",
    "# covers 68.268% area, 34.134% area lies on either side of the mean.\n",
    " \n",
    "# Option (c) is correct: Mean ±2 S.D. (i.e.,μ±2σ)\n",
    "# covers 95.45% area, 47.725% area lies on either side of the mean.\n",
    "\n",
    "# Option (d) is correct: Mean ±3 S.D. (i.e., μ±3σ)\n",
    "# covers 99.73% area, 49.865% area lies on either side of the mean.\n",
    "\n",
    "# Option (e) is correct: Only 0.27% area is outside the range μ±3σ.\n",
    "\n",
    "\n"
   ]
  },
  {
   "cell_type": "code",
   "execution_count": null,
   "metadata": {},
   "outputs": [],
   "source": []
  }
 ],
 "metadata": {
  "kernelspec": {
   "display_name": "Python 3",
   "language": "python",
   "name": "python3"
  },
  "language_info": {
   "codemirror_mode": {
    "name": "ipython",
    "version": 3
   },
   "file_extension": ".py",
   "mimetype": "text/x-python",
   "name": "python",
   "nbconvert_exporter": "python",
   "pygments_lexer": "ipython3",
   "version": "3.10.12"
  }
 },
 "nbformat": 4,
 "nbformat_minor": 2
}
