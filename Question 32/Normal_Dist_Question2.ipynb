{
 "cells": [
  {
   "cell_type": "markdown",
   "metadata": {},
   "source": [
    "### 15,000 students sat for an examination. The mean marks were 49, and the distribution of marks had a standard deviation of 6. Assuming that the marks were normally distributed, what proportion of students scored:\n",
    "##### (a) more than 55 marks, and\n",
    "##### (b) more than 70 marks?"
   ]
  },
  {
   "cell_type": "code",
   "execution_count": 1,
   "metadata": {},
   "outputs": [],
   "source": [
    "#Answer:\n",
    "\n",
    "# Mean (μ): 49\n",
    "# Standard Deviation (σ): 6\n",
    "\n",
    "# For more than 55 marks:\n",
    "# 𝑍 =(55−49)6=1\n",
    "\n",
    "# The area to the right of 𝑍=1 is approximately 15.87%.\n",
    "\n",
    "# For more than 70 marks:\n",
    "# 𝑍 =(70−49)/6=3.5\n",
    "\n",
    "# The area to the right of 𝑍=3.5 is extremely small, approximately 0.02%.\n",
    "\n",
    "# So:\n",
    "\n",
    "# Approximately 15.87% of students scored more than 55 marks.\n",
    "# Approximately 0.02% of students scored more than 70 marks."
   ]
  },
  {
   "cell_type": "code",
   "execution_count": 1,
   "metadata": {},
   "outputs": [
    {
     "name": "stderr",
     "output_type": "stream",
     "text": [
      "/home/awesome_dreamer_adit/.local/lib/python3.10/site-packages/scipy/__init__.py:132: UserWarning: A NumPy version >=1.21.6 and <1.28.0 is required for this version of SciPy (detected version 1.21.3)\n",
      "  warnings.warn(f\"A NumPy version >={np_minversion} and <{np_maxversion}\"\n"
     ]
    },
    {
     "name": "stdout",
     "output_type": "stream",
     "text": [
      "(a) Proportion of students who scored more than 55 marks: 15.87%\n",
      "(b) Proportion of students who scored more than 70 marks: 0.02%\n"
     ]
    }
   ],
   "source": [
    "#Program:\n",
    "\n",
    "import scipy.stats as stats\n",
    "\n",
    "def calculate_proportion(mean, std_dev, x):\n",
    "    # Calculate Z-score for the given mark\n",
    "    z = (x - mean) / std_dev\n",
    "    # Calculate the cumulative probability for the Z-score\n",
    "    p = stats.norm.cdf(z)\n",
    "    # Calculate the proportion of students who scored more than x\n",
    "    proportion = 1 - p\n",
    "    return round(proportion * 100, 2)  # Return percentage\n",
    "\n",
    "# Given data\n",
    "mean_marks = 49\n",
    "std_dev_marks = 6\n",
    "\n",
    "# Calculate the proportions\n",
    "proportion_more_than_55 = calculate_proportion(mean_marks, std_dev_marks, 55)\n",
    "proportion_more_than_70 = calculate_proportion(mean_marks, std_dev_marks, 70)\n",
    "\n",
    "print(f\"(a) Proportion of students who scored more than 55 marks: {proportion_more_than_55}%\")\n",
    "print(f\"(b) Proportion of students who scored more than 70 marks: {proportion_more_than_70}%\")\n"
   ]
  },
  {
   "cell_type": "code",
   "execution_count": null,
   "metadata": {},
   "outputs": [],
   "source": []
  }
 ],
 "metadata": {
  "kernelspec": {
   "display_name": "Python 3",
   "language": "python",
   "name": "python3"
  },
  "language_info": {
   "codemirror_mode": {
    "name": "ipython",
    "version": 3
   },
   "file_extension": ".py",
   "mimetype": "text/x-python",
   "name": "python",
   "nbconvert_exporter": "python",
   "pygments_lexer": "ipython3",
   "version": "3.10.12"
  }
 },
 "nbformat": 4,
 "nbformat_minor": 2
}
