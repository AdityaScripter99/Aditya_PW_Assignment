{
 "cells": [
  {
   "cell_type": "code",
   "execution_count": 2,
   "metadata": {},
   "outputs": [
    {
     "name": "stdout",
     "output_type": "stream",
     "text": [
      "You have borrowed the book: 1984\n",
      "Sorry, the book '1984' is currently unavailable.\n",
      "You have returned the book: 1984\n",
      "The book '1984' was not borrowed.\n"
     ]
    }
   ],
   "source": [
    "class LibraryBook:\n",
    "    def __init__(self, book_name, author, available=True):\n",
    "        self.__book_name = book_name\n",
    "        self.__author = author\n",
    "        self.__available = available\n",
    "\n",
    "    # Getter methods\n",
    "    def get_book_name(self):\n",
    "        return self.__book_name\n",
    "\n",
    "    def get_author(self):\n",
    "        return self.__author\n",
    "\n",
    "    def is_available(self):\n",
    "        return self.__available\n",
    "\n",
    "    # Method to borrow a book\n",
    "    def borrow_book(self):\n",
    "        if self.__available:\n",
    "            self.__available = False\n",
    "            print(f\"You have borrowed the book: {self.__book_name}\")\n",
    "        else:\n",
    "            print(f\"Sorry, the book '{self.__book_name}' is currently unavailable.\")\n",
    "\n",
    "    # Method to return a book\n",
    "    def return_book(self):\n",
    "        if not self.__available:\n",
    "            self.__available = True\n",
    "            print(f\"You have returned the book: {self.__book_name}\")\n",
    "        else:\n",
    "            print(f\"The book '{self.__book_name}' was not borrowed.\")\n",
    "\n",
    "\n",
    "\n",
    "book1 = LibraryBook(\"1984\", \"George Orwell\")\n",
    "book1.borrow_book()  # Borrow the book\n",
    "book1.borrow_book()  # Try borrowing again\n",
    "book1.return_book()  # Return the book\n",
    "book1.return_book()  # Try returning again\n",
    "       \n"
   ]
  },
  {
   "cell_type": "code",
   "execution_count": null,
   "metadata": {},
   "outputs": [],
   "source": []
  }
 ],
 "metadata": {
  "kernelspec": {
   "display_name": "Python 3",
   "language": "python",
   "name": "python3"
  },
  "language_info": {
   "codemirror_mode": {
    "name": "ipython",
    "version": 3
   },
   "file_extension": ".py",
   "mimetype": "text/x-python",
   "name": "python",
   "nbconvert_exporter": "python",
   "pygments_lexer": "ipython3",
   "version": "3.10.12"
  }
 },
 "nbformat": 4,
 "nbformat_minor": 2
}
