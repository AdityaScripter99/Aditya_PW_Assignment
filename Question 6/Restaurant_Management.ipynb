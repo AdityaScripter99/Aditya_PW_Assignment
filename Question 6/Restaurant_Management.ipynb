{
 "cells": [
  {
   "cell_type": "code",
   "execution_count": 1,
   "metadata": {},
   "outputs": [
    {
     "name": "stdout",
     "output_type": "stream",
     "text": [
      "ID: 132716206996832, Name: Burger, Description: A delicious beef burger, Price: 5.99, Category: Food\n",
      "ID: 132716206988096, Name: Coke, Description: A refreshing cola, Price: 1.99, Category: Beverage\n",
      "ID: 132716206996832, Name: Burger, Description: A delicious beef burger, Price: 6.49, Category: Food\n"
     ]
    }
   ],
   "source": [
    "class MenuItem:\n",
    "    def __init__(self, name, description, price, category):\n",
    "        self.__id = id(self)  # Unique identification number\n",
    "        self.name = name\n",
    "        self.description = description\n",
    "        self.price = price\n",
    "        self.category = category\n",
    "\n",
    "    def update_item(self, name=None, description=None, price=None, category=None):\n",
    "        if name:\n",
    "            self.name = name\n",
    "        if description:\n",
    "            self.description = description\n",
    "        if price:\n",
    "            self.price = price\n",
    "        if category:\n",
    "            self.category = category\n",
    "\n",
    "    def get_details(self):\n",
    "        return f\"ID: {self.__id}, Name: {self.name}, Description: {self.description}, Price: {self.price}, Category: {self.category}\"\n",
    "\n",
    "    def get_id(self):\n",
    "        return self.__id\n",
    "\n",
    "class FoodItem(MenuItem):\n",
    "    def __init__(self, name, description, price, category=\"Food\"):\n",
    "        super().__init__(name, description, price, category)\n",
    "\n",
    "class BeverageItem(MenuItem):\n",
    "    def __init__(self, name, description, price, category=\"Beverage\"):\n",
    "        super().__init__(name, description, price, category)\n",
    "\n",
    "# Example Usage\n",
    "food_item = FoodItem(\"Burger\", \"A delicious beef burger\", 5.99)\n",
    "beverage_item = BeverageItem(\"Coke\", \"A refreshing cola\", 1.99)\n",
    "\n",
    "print(food_item.get_details())\n",
    "print(beverage_item.get_details())\n",
    "\n",
    "# Updating an item\n",
    "food_item.update_item(price=6.49)\n",
    "print(food_item.get_details())\n"
   ]
  },
  {
   "cell_type": "code",
   "execution_count": null,
   "metadata": {},
   "outputs": [],
   "source": []
  }
 ],
 "metadata": {
  "kernelspec": {
   "display_name": "Python 3",
   "language": "python",
   "name": "python3"
  },
  "language_info": {
   "codemirror_mode": {
    "name": "ipython",
    "version": 3
   },
   "file_extension": ".py",
   "mimetype": "text/x-python",
   "name": "python",
   "nbconvert_exporter": "python",
   "pygments_lexer": "ipython3",
   "version": "3.10.12"
  }
 },
 "nbformat": 4,
 "nbformat_minor": 2
}
