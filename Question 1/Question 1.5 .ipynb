{
 "cells": [
  {
   "cell_type": "markdown",
   "metadata": {},
   "source": [
    "## Tuple Operations"
   ]
  },
  {
   "cell_type": "code",
   "execution_count": 1,
   "metadata": {},
   "outputs": [],
   "source": [
    "\n",
    "#Given:\n",
    "tuple1 = (10, 20, \"Apple\", 3.4, 'a', [\"master\", \"ji\"], (\"sita\", \"geeta\", 22), [{\"roll_no\":1}], {\"name\":\"Navneet\"})"
   ]
  },
  {
   "cell_type": "code",
   "execution_count": 3,
   "metadata": {},
   "outputs": [
    {
     "name": "stdout",
     "output_type": "stream",
     "text": [
      "9\n"
     ]
    }
   ],
   "source": [
    "# a) print(len(tuple1)):-\n",
    "\n",
    "print(len(tuple1))\n",
    "#Explanation: This will print the number of elements in the tuple."
   ]
  },
  {
   "cell_type": "code",
   "execution_count": 9,
   "metadata": {},
   "outputs": [
    {
     "ename": "KeyError",
     "evalue": "-1",
     "output_type": "error",
     "traceback": [
      "\u001b[0;31m---------------------------------------------------------------------------\u001b[0m",
      "\u001b[0;31mKeyError\u001b[0m                                  Traceback (most recent call last)",
      "Cell \u001b[0;32mIn[9], line 3\u001b[0m\n\u001b[1;32m      1\u001b[0m \u001b[38;5;66;03m# b) print(tuple1[-1][-1][\"name\"]):-\u001b[39;00m\n\u001b[0;32m----> 3\u001b[0m \u001b[38;5;28mprint\u001b[39m(\u001b[43mtuple1\u001b[49m\u001b[43m[\u001b[49m\u001b[38;5;241;43m-\u001b[39;49m\u001b[38;5;241;43m1\u001b[39;49m\u001b[43m]\u001b[49m\u001b[43m[\u001b[49m\u001b[38;5;241;43m-\u001b[39;49m\u001b[38;5;241;43m1\u001b[39;49m\u001b[43m]\u001b[49m[\u001b[38;5;124m\"\u001b[39m\u001b[38;5;124mname\u001b[39m\u001b[38;5;124m\"\u001b[39m])\n\u001b[1;32m      5\u001b[0m \u001b[38;5;66;03m#Explanation:\u001b[39;00m\n\u001b[1;32m      6\u001b[0m \u001b[38;5;66;03m#tuple1[-1]-accesses the last element of the tuple, which is {\"name\": \"Navneet\"}.\u001b[39;00m\n\u001b[1;32m      7\u001b[0m \u001b[38;5;66;03m#tuple1[-1][\"name\"] fetches the value associated with the key \"name\".\u001b[39;00m\n",
      "\u001b[0;31mKeyError\u001b[0m: -1"
     ]
    }
   ],
   "source": [
    "# b) print(tuple1[-1][-1][\"name\"]):-\n",
    "\n",
    "print(tuple1[-1][-1][\"name\"])\n",
    "\n",
    "#Explanation:\n",
    "#tuple1[-1]-accesses the last element of the tuple, which is {\"name\": \"Navneet\"}.\n",
    "#tuple1[-1][\"name\"] fetches the value associated with the key \"name\"."
   ]
  },
  {
   "cell_type": "code",
   "execution_count": 10,
   "metadata": {},
   "outputs": [
    {
     "name": "stdout",
     "output_type": "stream",
     "text": [
      "1\n"
     ]
    }
   ],
   "source": [
    "# c) Fetch the value of roll_no from this tuple:-\n",
    "\n",
    "print(tuple1[7][0][\"roll_no\"])\n",
    "  \n",
    "#Explanation: \n",
    "#tuple1[7] accesses the 8th element, which is [{\"roll_no\":1}].\n",
    "#[0] accesses the first dictionary in the list.\n",
    "#[\"roll_no\"] fetches the value associated with the key \"roll_no\"."
   ]
  },
  {
   "cell_type": "code",
   "execution_count": 11,
   "metadata": {},
   "outputs": [
    {
     "name": "stdout",
     "output_type": "stream",
     "text": [
      "geeta\n"
     ]
    }
   ],
   "source": [
    "# d) print(tuple1[-3][1]):-\n",
    "\n",
    "print(tuple1[-3][1])\n",
    "\n",
    "# Explanation:\n",
    "#tuple1[-3] accesses the 3rd last element, which is the tuple (\"sita\", \"geeta\", 22).\n",
    "#[1] accesses the second element of the tuple, \"geeta\"."
   ]
  },
  {
   "cell_type": "code",
   "execution_count": 12,
   "metadata": {},
   "outputs": [
    {
     "name": "stdout",
     "output_type": "stream",
     "text": [
      "22\n"
     ]
    }
   ],
   "source": [
    "\n",
    "# e) Fetch the element \"22\" from this tuple:-\n",
    "\n",
    "print(tuple1[6][2])\n",
    "  \n",
    "#Explanation:* \n",
    "#tuple1[6] accesses the 7th element, which is (\"sita\", \"geeta\", 22).\n",
    "#[2] accesses the third element of this tuple, 22."
   ]
  },
  {
   "cell_type": "code",
   "execution_count": null,
   "metadata": {},
   "outputs": [],
   "source": []
  }
 ],
 "metadata": {
  "kernelspec": {
   "display_name": "Python 3",
   "language": "python",
   "name": "python3"
  },
  "language_info": {
   "codemirror_mode": {
    "name": "ipython",
    "version": 3
   },
   "file_extension": ".py",
   "mimetype": "text/x-python",
   "name": "python",
   "nbconvert_exporter": "python",
   "pygments_lexer": "ipython3",
   "version": "3.10.12"
  }
 },
 "nbformat": 4,
 "nbformat_minor": 2
}
