{
 "cells": [
  {
   "cell_type": "markdown",
   "metadata": {},
   "source": [
    "### Program for Traffic Signal"
   ]
  },
  {
   "cell_type": "code",
   "execution_count": 1,
   "metadata": {},
   "outputs": [
    {
     "name": "stdout",
     "output_type": "stream",
     "text": [
      "Stop\n"
     ]
    }
   ],
   "source": [
    "color = input(\"Enter the traffic signal color (RED/YELLOW/GREEN): \").strip().upper()\n",
    "\n",
    "if color == \"RED\":\n",
    "    print(\"Stop\")\n",
    "elif color == \"YELLOW\":\n",
    "    print(\"Stay\")\n",
    "elif color == \"GREEN\":\n",
    "    print(\"Go\")\n",
    "else:\n",
    "    print(\"Invalid color\")"
   ]
  }
 ],
 "metadata": {
  "kernelspec": {
   "display_name": "Python 3",
   "language": "python",
   "name": "python3"
  },
  "language_info": {
   "codemirror_mode": {
    "name": "ipython",
    "version": 3
   },
   "file_extension": ".py",
   "mimetype": "text/x-python",
   "name": "python",
   "nbconvert_exporter": "python",
   "pygments_lexer": "ipython3",
   "version": "3.10.12"
  }
 },
 "nbformat": 4,
 "nbformat_minor": 2
}
