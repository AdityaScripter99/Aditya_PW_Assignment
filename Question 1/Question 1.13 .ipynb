{
 "cells": [
  {
   "cell_type": "markdown",
   "metadata": {},
   "source": [
    "### program for VIBGYOR Spectrum based on their Wavelength using the given wavelength ranges:-"
   ]
  },
  {
   "cell_type": "code",
   "execution_count": 1,
   "metadata": {},
   "outputs": [
    {
     "name": "stdout",
     "output_type": "stream",
     "text": [
      "The color corresponding to 500 nm is Green.\n"
     ]
    }
   ],
   "source": [
    "def determine_color(wavelength):\n",
    "    if 400 <= wavelength < 440:\n",
    "        return \"Violet\"\n",
    "    elif 440 <= wavelength < 460:\n",
    "        return \"Indigo\"\n",
    "    elif 460 <= wavelength < 500:\n",
    "        return \"Blue\"\n",
    "    elif 500 <= wavelength < 570:\n",
    "        return \"Green\"\n",
    "    elif 570 <= wavelength < 590:\n",
    "        return \"Yellow\"\n",
    "    elif 590 <= wavelength < 620:\n",
    "        return \"Orange\"\n",
    "    elif 620 <= wavelength <= 720:\n",
    "        return \"Red\"\n",
    "    else:\n",
    "        return \"Wavelength not in the VIBGYOR range\"\n",
    "\n",
    "# Example usage\n",
    "wavelength = 500\n",
    "color = determine_color(wavelength)\n",
    "print(f\"The color corresponding to {wavelength} nm is {color}.\")\n"
   ]
  }
 ],
 "metadata": {
  "kernelspec": {
   "display_name": "Python 3",
   "language": "python",
   "name": "python3"
  },
  "language_info": {
   "codemirror_mode": {
    "name": "ipython",
    "version": 3
   },
   "file_extension": ".py",
   "mimetype": "text/x-python",
   "name": "python",
   "nbconvert_exporter": "python",
   "pygments_lexer": "ipython3",
   "version": "3.10.12"
  }
 },
 "nbformat": 4,
 "nbformat_minor": 2
}
