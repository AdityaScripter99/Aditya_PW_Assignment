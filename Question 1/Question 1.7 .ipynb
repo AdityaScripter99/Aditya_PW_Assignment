{
 "cells": [
  {
   "cell_type": "markdown",
   "metadata": {},
   "source": [
    "### Simple Calculator Program"
   ]
  },
  {
   "cell_type": "code",
   "execution_count": 1,
   "metadata": {},
   "outputs": [
    {
     "name": "stdout",
     "output_type": "stream",
     "text": [
      "Result: -1.0\n"
     ]
    }
   ],
   "source": [
    "def calculator():\n",
    "    num1 = float(input(\"Enter first number: \"))\n",
    "    num2 = float(input(\"Enter second number: \"))\n",
    "    operation = input(\"Enter operation (+, -, *, /): \")\n",
    "\n",
    "    if operation == '+':\n",
    "        print(f\"Result: {num1 + num2}\")\n",
    "    elif operation == '-':\n",
    "        print(f\"Result: {num1 - num2}\")\n",
    "    elif operation == '*':\n",
    "        print(f\"Result: {num1 * num2}\")\n",
    "    elif operation == '/':\n",
    "        if num2 != 0:\n",
    "            print(f\"Result: {num1 / num2}\")\n",
    "        else:\n",
    "            print(\"Division by zero is not allowed.\")\n",
    "    else:\n",
    "        print(\"Invalid operation.\")\n",
    "\n",
    "calculator()"
   ]
  }
 ],
 "metadata": {
  "kernelspec": {
   "display_name": "Python 3",
   "language": "python",
   "name": "python3"
  },
  "language_info": {
   "codemirror_mode": {
    "name": "ipython",
    "version": 3
   },
   "file_extension": ".py",
   "mimetype": "text/x-python",
   "name": "python",
   "nbconvert_exporter": "python",
   "pygments_lexer": "ipython3",
   "version": "3.10.12"
  }
 },
 "nbformat": 4,
 "nbformat_minor": 2
}
