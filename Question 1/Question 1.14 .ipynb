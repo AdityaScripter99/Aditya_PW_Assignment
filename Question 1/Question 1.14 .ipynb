{
 "cells": [
  {
   "cell_type": "code",
   "execution_count": 1,
   "metadata": {},
   "outputs": [
    {
     "name": "stdout",
     "output_type": "stream",
     "text": [
      "Gravitational Force between Earth and Sun: 3.542e+22 N\n",
      "Gravitational Force between Moon and Earth: 1.982e+20 N\n",
      "The Earth is more strongly attracted to the Sun than the Moon is to the Earth.\n"
     ]
    }
   ],
   "source": [
    "# Constants\n",
    "G = 6.674 * 10**-11  # Gravitational constant in Nm^2/kg^2\n",
    "\n",
    "# Masses in kilograms\n",
    "mass_earth = 5.972 * 10**24    # Mass of Earth\n",
    "mass_moon = 7.34767309 * 10**22  # Mass of Moon\n",
    "mass_sun = 1.989 * 10**30       # Mass of Sun\n",
    "\n",
    "# Distances in meters\n",
    "distance_earth_sun = 1.496 * 10**11  # Distance between Earth and Sun\n",
    "distance_moon_earth = 3.844 * 10**8  # Distance between Moon and Earth\n",
    "\n",
    "# Gravitational force between Earth and Sun\n",
    "force_earth_sun = G * (mass_earth * mass_sun) / distance_earth_sun**2\n",
    "\n",
    "# Gravitational force between Moon and Earth\n",
    "force_moon_earth = G * (mass_moon * mass_earth) / distance_moon_earth**2\n",
    "\n",
    "# Display the calculated forces\n",
    "print(f\"Gravitational Force between Earth and Sun: {force_earth_sun:.3e} N\")\n",
    "print(f\"Gravitational Force between Moon and Earth: {force_moon_earth:.3e} N\")\n",
    "\n",
    "# Comparison of the forces\n",
    "if force_earth_sun > force_moon_earth:\n",
    "    print(\"The Earth is more strongly attracted to the Sun than the Moon is to the Earth.\")\n",
    "else:\n",
    "    print(\"The Moon is more strongly attracted to the Earth than the Earth is to the Sun.\")\n"
   ]
  }
 ],
 "metadata": {
  "kernelspec": {
   "display_name": "Python 3",
   "language": "python",
   "name": "python3"
  },
  "language_info": {
   "codemirror_mode": {
    "name": "ipython",
    "version": 3
   },
   "file_extension": ".py",
   "mimetype": "text/x-python",
   "name": "python",
   "nbconvert_exporter": "python",
   "pygments_lexer": "ipython3",
   "version": "3.10.12"
  }
 },
 "nbformat": 4,
 "nbformat_minor": 2
}
