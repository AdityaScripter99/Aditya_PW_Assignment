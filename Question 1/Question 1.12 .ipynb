{
 "cells": [
  {
   "cell_type": "markdown",
   "metadata": {},
   "source": [
    "### Program to Calculate Marks, Percentage, and Grade"
   ]
  },
  {
   "cell_type": "code",
   "execution_count": 1,
   "metadata": {},
   "outputs": [
    {
     "name": "stdout",
     "output_type": "stream",
     "text": [
      "[45, 85, 74, 86, 96]\n",
      "Total Marks: 386\n",
      "Percentage: 77.2%\n",
      "Grade: B\n"
     ]
    }
   ],
   "source": [
    "# Accept marks for five major subjects\n",
    "marks = []\n",
    "for i in range(5):\n",
    "    mark = int(input(f\"Enter marks for subject {i+1}: \"))\n",
    "    marks.append(mark)\n",
    "\n",
    "print(marks)    \n",
    "\n",
    "# Calculate sum and percentage\n",
    "total_marks = sum(marks)\n",
    "percentage = total_marks / 5\n",
    "\n",
    "print(f\"Total Marks: {total_marks}\")\n",
    "print(f\"Percentage: {percentage}%\")\n",
    "\n",
    "# Determine grade using Match (Python 3.10+)\n",
    "if percentage > 85:\n",
    "    grade = 'A'\n",
    "elif 75 <= percentage <= 85:\n",
    "    grade = 'B'\n",
    "elif 50 <= percentage < 75:\n",
    "    grade = 'C'\n",
    "elif 30 <= percentage < 50:\n",
    "    grade = 'D'\n",
    "else:\n",
    "    grade = 'Reappear'\n",
    "\n",
    "print(f\"Grade: {grade}\")"
   ]
  },
  {
   "cell_type": "code",
   "execution_count": null,
   "metadata": {},
   "outputs": [],
   "source": []
  }
 ],
 "metadata": {
  "kernelspec": {
   "display_name": "Python 3",
   "language": "python",
   "name": "python3"
  },
  "language_info": {
   "codemirror_mode": {
    "name": "ipython",
    "version": 3
   },
   "file_extension": ".py",
   "mimetype": "text/x-python",
   "name": "python",
   "nbconvert_exporter": "python",
   "pygments_lexer": "ipython3",
   "version": "3.10.12"
  }
 },
 "nbformat": 4,
 "nbformat_minor": 2
}
