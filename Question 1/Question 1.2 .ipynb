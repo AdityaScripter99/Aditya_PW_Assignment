{
 "cells": [
  {
   "cell_type": "markdown",
   "metadata": {},
   "source": [
    "## Identifying Invalid Identifiers:-"
   ]
  },
  {
   "cell_type": "code",
   "execution_count": 1,
   "metadata": {},
   "outputs": [],
   "source": [
    "# a) Serial_no : Valid (Underscores are allowed in variable names).\n",
    "\n",
    "# b) 1st_Room: Invalid (Identifiers cannot start with a digit).\n",
    "\n",
    "# c) Hundred$: Invalid (Special characters like $ are not allowed in identifiers).\n",
    "\n",
    "# d) Total_Marks: Valid (Underscores are allowed).\n",
    "\n",
    "# e) total-Marks: Invalid (Hyphens are not allowed in identifiers).\n",
    "\n",
    "# f) Total Marks: Invalid (Spaces are not allowed in identifiers).\n",
    "\n",
    "# g) True: Invalid (It is a reserved keyword in Python).\n",
    "\n",
    "# h) _Percentag: Valid (Identifiers can start with an underscore).\n"
   ]
  },
  {
   "cell_type": "code",
   "execution_count": null,
   "metadata": {},
   "outputs": [],
   "source": []
  }
 ],
 "metadata": {
  "kernelspec": {
   "display_name": "Python 3",
   "language": "python",
   "name": "python3"
  },
  "language_info": {
   "codemirror_mode": {
    "name": "ipython",
    "version": 3
   },
   "file_extension": ".py",
   "mimetype": "text/x-python",
   "name": "python",
   "nbconvert_exporter": "python",
   "pygments_lexer": "ipython3",
   "version": "3.10.12"
  }
 },
 "nbformat": 4,
 "nbformat_minor": 2
}
