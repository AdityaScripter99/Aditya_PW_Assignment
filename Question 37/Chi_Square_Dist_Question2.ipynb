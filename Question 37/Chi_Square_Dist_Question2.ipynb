{
 "cells": [
  {
   "cell_type": "markdown",
   "metadata": {},
   "source": [
    "#### 100 students of a PW IOI obtained the following grades in Data Science paper:\n",
    "##### Grade: [A, B, C, D, E]\n",
    "##### Total Frequency: [15, 17, 30, 22, 16, 100]\n",
    "##### Using the χ2 test, examine the hypothesis that the distribution of grades is uniform.\n",
    "\n"
   ]
  },
  {
   "cell_type": "code",
   "execution_count": 1,
   "metadata": {},
   "outputs": [],
   "source": [
    "# Answer:\n",
    "\n",
    "# To test if the grades distribution is uniform, you would assume an equal expected frequency for each grade. Calculate the chi-square statistic as follows:\n",
    "\n",
    "# 1. Expected Frequency:\n",
    "\n",
    "# Expected Frequency for each grade = (Total students/Number of grades) = (100/5) = 20\n",
    "\n",
    "#2. Calculate χ2: \n",
    "\n",
    "#           χ2 = ∑((Oi−Ei)**2))/Ei​ \n",
    "\n",
    "# where Oi is the observed frequency, and Ei is the expected frequency.\n",
    "\n",
    "# Substitute the observed frequencies and calculate the χ2 value.\n",
    "\n",
    "# Conclusion: Compare the calculated χ2 value with the critical value from the chi-square distribution table with 5−1=4 degrees of freedom to determine if you accept or reject the hypothesis.\n"
   ]
  },
  {
   "cell_type": "code",
   "execution_count": 1,
   "metadata": {},
   "outputs": [
    {
     "name": "stderr",
     "output_type": "stream",
     "text": [
      "/home/awesome_dreamer_adit/.local/lib/python3.10/site-packages/scipy/__init__.py:132: UserWarning: A NumPy version >=1.21.6 and <1.28.0 is required for this version of SciPy (detected version 1.21.3)\n",
      "  warnings.warn(f\"A NumPy version >={np_minversion} and <{np_maxversion}\"\n"
     ]
    },
    {
     "name": "stdout",
     "output_type": "stream",
     "text": [
      "Chi-square statistic: 7.70\n",
      "P-value: 0.1032\n",
      "Fail to reject the null hypothesis: The distribution of grades is uniform.\n"
     ]
    }
   ],
   "source": [
    "# Program\n",
    "\n",
    "import scipy.stats as stats\n",
    "\n",
    "# Given data\n",
    "grades = ['A', 'B', 'C', 'D', 'E']\n",
    "observed_frequencies = [15, 17, 30, 22, 16]\n",
    "total_students = 100\n",
    "expected_frequency = total_students / len(grades)\n",
    "\n",
    "# Calculate the chi-square test statistic\n",
    "chi_square_stat = sum(((observed - expected_frequency) ** 2) / expected_frequency for observed in observed_frequencies)\n",
    "\n",
    "# Degrees of freedom\n",
    "df = len(grades) - 1\n",
    "\n",
    "# Calculate the p-value\n",
    "p_value = stats.chi2.sf(chi_square_stat, df)\n",
    "\n",
    "# Significance level (usually 0.05)\n",
    "alpha = 0.05\n",
    "\n",
    "print(f\"Chi-square statistic: {chi_square_stat:.2f}\")\n",
    "print(f\"P-value: {p_value:.4f}\")\n",
    "\n",
    "# Conclusion\n",
    "if p_value < alpha:\n",
    "    print(\"Reject the null hypothesis: The distribution of grades is not uniform.\")\n",
    "else:\n",
    "    print(\"Fail to reject the null hypothesis: The distribution of grades is uniform.\")\n"
   ]
  }
 ],
 "metadata": {
  "kernelspec": {
   "display_name": "Python 3",
   "language": "python",
   "name": "python3"
  },
  "language_info": {
   "codemirror_mode": {
    "name": "ipython",
    "version": 3
   },
   "file_extension": ".py",
   "mimetype": "text/x-python",
   "name": "python",
   "nbconvert_exporter": "python",
   "pygments_lexer": "ipython3",
   "version": "3.10.12"
  }
 },
 "nbformat": 4,
 "nbformat_minor": 2
}
