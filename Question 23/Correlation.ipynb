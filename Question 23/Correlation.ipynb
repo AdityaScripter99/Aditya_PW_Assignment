{
 "cells": [
  {
   "cell_type": "markdown",
   "metadata": {},
   "source": [
    "### What is correlation? Explain its type in details. What are the methods of determining correlation?"
   ]
  },
  {
   "cell_type": "code",
   "execution_count": 1,
   "metadata": {},
   "outputs": [],
   "source": [
    "# Answer:\n",
    "\n",
    "# Correlation: Correlation is a statistical measure that describes the extent to which two variables change together. It indicates the strength and direction of a linear relationship between two variables.\n",
    "\n",
    "# Types of Correlation:\n",
    "\n",
    "# Positive Correlation: When both variables increase or decrease together. The correlation coefficient is between 0 and +1.\n",
    "# Negative Correlation: When one variable increases as the other decreases. The correlation coefficient is between 0 and -1.\n",
    "# Zero Correlation: No linear relationship between the variables; the correlation coefficient is close to 0.\n",
    "# Methods of Determining Correlation:\n",
    "\n",
    "# Pearson’s Correlation Coefficient (r): Measures linear correlation between two variables. Values range from -1 to 1.\n",
    "# Spearman’s Rank Correlation: A non-parametric measure of rank correlation; assesses how well the relationship between two variables can be described using a monotonic function.\n",
    "# Kendall’s Tau: A measure of rank correlation that considers the number of concordant and discordant pairs."
   ]
  },
  {
   "cell_type": "code",
   "execution_count": 2,
   "metadata": {},
   "outputs": [
    {
     "name": "stderr",
     "output_type": "stream",
     "text": [
      "/home/awesome_dreamer_adit/.local/lib/python3.10/site-packages/scipy/__init__.py:132: UserWarning: A NumPy version >=1.21.6 and <1.28.0 is required for this version of SciPy (detected version 1.21.3)\n",
      "  warnings.warn(f\"A NumPy version >={np_minversion} and <{np_maxversion}\"\n"
     ]
    },
    {
     "name": "stdout",
     "output_type": "stream",
     "text": [
      "Pearson Correlation Coefficient: 1.0\n"
     ]
    }
   ],
   "source": [
    "import numpy as np\n",
    "from scipy.stats import pearsonr\n",
    "\n",
    "def calculate_correlation(x, y):\n",
    "    # Calculate the Pearson correlation coefficient\n",
    "    correlation_coefficient, _ = pearsonr(x, y)\n",
    "    return correlation_coefficient\n",
    "\n",
    "# Example usage\n",
    "x = [10, 20, 30, 40, 50]\n",
    "y = [15, 25, 35, 45, 55]\n",
    "\n",
    "correlation = calculate_correlation(x, y)\n",
    "print(f\"Pearson Correlation Coefficient: {correlation}\")\n"
   ]
  },
  {
   "cell_type": "code",
   "execution_count": null,
   "metadata": {},
   "outputs": [],
   "source": []
  }
 ],
 "metadata": {
  "kernelspec": {
   "display_name": "Python 3",
   "language": "python",
   "name": "python3"
  },
  "language_info": {
   "codemirror_mode": {
    "name": "ipython",
    "version": 3
   },
   "file_extension": ".py",
   "mimetype": "text/x-python",
   "name": "python",
   "nbconvert_exporter": "python",
   "pygments_lexer": "ipython3",
   "version": "3.10.12"
  }
 },
 "nbformat": 4,
 "nbformat_minor": 2
}
