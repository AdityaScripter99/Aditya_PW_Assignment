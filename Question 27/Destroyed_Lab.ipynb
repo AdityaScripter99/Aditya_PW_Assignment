{
 "cells": [
  {
   "cell_type": "markdown",
   "metadata": {},
   "source": [
    "##### In a partially destroyed laboratory record of an analysis of correlation data, the following results only are legible: Variance of x = 9, Regression equations are: 8x-10y=-66 and 40x-18y=214. What are the mean and coefficient of correlation of x and y and standard deviation of y"
   ]
  },
  {
   "cell_type": "code",
   "execution_count": 2,
   "metadata": {},
   "outputs": [],
   "source": [
    "#To solve this problem, we need to extract the necessary information from the given regression equations and \n",
    "#use the relationships between the regression coefficients, means, variances, and the correlation coefficient.\n",
    "\n",
    "#Given:\n",
    "\n",
    "# Variance of 𝑥(𝜎𝑥**2) = 9\n",
    "\n",
    "# Regression equations: 1.8x-10y=-66 \n",
    "#                       2.40x−18y=214\n",
    "\n",
    "# Steps to solve:\n",
    "\n",
    "# 1. Convert the regression equations into the standard form:\n",
    "\n",
    "# The first regression equation: 8x-10y=-66 \n",
    "#  Can be written as: 0.8x-y = -6.6 --> Dividing Whole Equation by 10\n",
    "# --> y = 0.8x + 6.6 (equation 1)\n",
    "\n",
    "# The second regression equation: 40x−18y=214\n",
    "# Can be written as: 2.22x-y = 11.89\n",
    "# --> y = 2.22 - 11.89 (equation 2)\n",
    "\n",
    "# 2. Identify the regression coefficients:\n",
    "\n",
    "# From Equation 1:  b(yx)=0.8\n",
    "# From Equation 2:  b(xy)= (1/2.22)≈0.45\n",
    "\n",
    "# 3. Find the mean values:\n",
    "\n",
    "#Using the fact that both regression lines must intersect at the point(𝑥ˉ,𝑦ˉ): \n",
    "#Equating the two equations 𝑦=0.8𝑥+6.6 and y=2.22x−11.89:\n",
    "\n",
    "#                0.8x+6.6=2.22x−11.89\n",
    "#                6.6+11.89=2.22x−0.8x\n",
    "#                    18.49=1.42x\n",
    "#                 𝑥ˉ = (18.49/1.42)≈13.02\n",
    "\n",
    "# Substitute 𝑥ˉ into one of the regression equations to find 𝑦ˉ:\n",
    "\n",
    "# Using 𝑦ˉ=0.8 × 𝑥ˉ+6.6:\n",
    "\n",
    "# yˉ=0.8×13.02+6.6≈16.02\n",
    "\n",
    "# 4. Calculate the correlation coefficient (𝑟):\n",
    "\n",
    "# The correlation coefficient is related to the regression coefficients by:\n",
    "#           r= sqrt(b(xy)×b(yx))= sqrt(0.8×0.45)≈ sqrt(0.36) = 0.6\n",
    "\n",
    "# 5. Calculate the standard deviation of y(𝜎𝑦):\n",
    "# The standard deviations are related by:\n",
    "#     𝑏𝑦𝑥=rx(𝜎𝑦/𝜎𝑥)\n",
    "#Given: 𝜎𝑥 = sqrt(9) = 3  \n",
    "\n",
    "#     0.8 = 0.6 x (𝜎𝑦/3)\n",
    "#     𝜎𝑦 = (0.8x3)/0.6 = 4 \n"
   ]
  },
  {
   "cell_type": "code",
   "execution_count": 3,
   "metadata": {},
   "outputs": [
    {
     "name": "stdout",
     "output_type": "stream",
     "text": [
      "Mean of x: 13.02\n",
      "Mean of y: 17.02\n",
      "Correlation coefficient (r): 0.60\n",
      "Standard deviation of y: 4.00\n"
     ]
    }
   ],
   "source": [
    "# Program\n",
    "\n",
    "import math\n",
    "\n",
    "# Given data\n",
    "variance_x = 9\n",
    "b_yx = 0.8\n",
    "b_xy = 0.45\n",
    "\n",
    "# Calculate mean of x\n",
    "mean_x = 18.49 / 1.42\n",
    "\n",
    "# Calculate mean of y using mean_x\n",
    "mean_y = 0.8 * mean_x + 6.6\n",
    "\n",
    "# Calculate the correlation coefficient r\n",
    "r = math.sqrt(b_yx * b_xy)\n",
    "\n",
    "# Calculate the standard deviation of x\n",
    "std_dev_x = math.sqrt(variance_x)\n",
    "\n",
    "# Calculate the standard deviation of y\n",
    "std_dev_y = b_yx * std_dev_x / r\n",
    "\n",
    "print(f\"Mean of x: {mean_x:.2f}\")\n",
    "print(f\"Mean of y: {mean_y:.2f}\")\n",
    "print(f\"Correlation coefficient (r): {r:.2f}\")\n",
    "print(f\"Standard deviation of y: {std_dev_y:.2f}\")\n"
   ]
  },
  {
   "cell_type": "code",
   "execution_count": null,
   "metadata": {},
   "outputs": [],
   "source": []
  }
 ],
 "metadata": {
  "kernelspec": {
   "display_name": "Python 3",
   "language": "python",
   "name": "python3"
  },
  "language_info": {
   "codemirror_mode": {
    "name": "ipython",
    "version": 3
   },
   "file_extension": ".py",
   "mimetype": "text/x-python",
   "name": "python",
   "nbconvert_exporter": "python",
   "pygments_lexer": "ipython3",
   "version": "3.10.12"
  }
 },
 "nbformat": 4,
 "nbformat_minor": 2
}
