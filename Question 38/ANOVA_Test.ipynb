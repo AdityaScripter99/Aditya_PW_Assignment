{
 "cells": [
  {
   "cell_type": "markdown",
   "metadata": {},
   "source": [
    "### ANOVA Test: To perform an ANOVA test on the given data:\n",
    "\n",
    "##### Null Hypothesis (H₀): There is no significant difference in the whiteness readings among the different detergents and water temperatures.\n",
    "##### Alternative Hypothesis (H₁): There is a significant difference in the whiteness readings among the different detergents and water temperatures.\n"
   ]
  },
  {
   "cell_type": "code",
   "execution_count": 1,
   "metadata": {},
   "outputs": [
    {
     "name": "stderr",
     "output_type": "stream",
     "text": [
      "/home/awesome_dreamer_adit/.local/lib/python3.10/site-packages/scipy/__init__.py:132: UserWarning: A NumPy version >=1.21.6 and <1.28.0 is required for this version of SciPy (detected version 1.21.3)\n",
      "  warnings.warn(f\"A NumPy version >={np_minversion} and <{np_maxversion}\"\n"
     ]
    },
    {
     "name": "stdout",
     "output_type": "stream",
     "text": [
      "F-statistic: 0.6029143897996357\n",
      "p-value: 0.5773005027709032\n",
      "There is no significant difference between the means.\n"
     ]
    }
   ],
   "source": [
    "import pandas as pd\n",
    "import scipy.stats as stats\n",
    "\n",
    "# Creating the dataset as a pandas DataFrame\n",
    "data = {\n",
    "    'Cold Water': [57, 55, 67],\n",
    "    'Warm Water': [49, 52, 68],\n",
    "    'Hot Water': [54, 46, 58]\n",
    "}\n",
    "\n",
    "df = pd.DataFrame(data, index=['Detergents A', 'Detergents B', 'Detergents C'])\n",
    "\n",
    "# Perform one-way ANOVA\n",
    "f_statistic, p_value = stats.f_oneway(df['Cold Water'], df['Warm Water'], df['Hot Water'])\n",
    "\n",
    "# Output the results\n",
    "print(f'F-statistic: {f_statistic}')\n",
    "print(f'p-value: {p_value}')\n",
    "\n",
    "# Interpret the results\n",
    "alpha = 0.05\n",
    "if p_value < alpha:\n",
    "    print(\"There is a significant difference between the means.\")\n",
    "else:\n",
    "    print(\"There is no significant difference between the means.\")\n"
   ]
  },
  {
   "cell_type": "code",
   "execution_count": null,
   "metadata": {},
   "outputs": [],
   "source": []
  }
 ],
 "metadata": {
  "kernelspec": {
   "display_name": "Python 3",
   "language": "python",
   "name": "python3"
  },
  "language_info": {
   "codemirror_mode": {
    "name": "ipython",
    "version": 3
   },
   "file_extension": ".py",
   "mimetype": "text/x-python",
   "name": "python",
   "nbconvert_exporter": "python",
   "pygments_lexer": "ipython3",
   "version": "3.10.12"
  }
 },
 "nbformat": 4,
 "nbformat_minor": 2
}
